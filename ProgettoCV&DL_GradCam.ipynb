version https://git-lfs.github.com/spec/v1
oid sha256:6af5ec7f50d0395fc910ca9a9840559c669554700333a33a2ece17dd2ebb12a8
size 84117632
